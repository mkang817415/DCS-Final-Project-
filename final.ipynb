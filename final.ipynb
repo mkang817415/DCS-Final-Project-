{
 "cells": [
  {
   "attachments": {},
   "cell_type": "markdown",
   "metadata": {},
   "source": [
    "    Slang Words in Literary Text \n",
    " \n",
    "Slang is an informal nonstandard vocabulary composed typically of coinages, arbitrarily changed words, and extravagant, forced, or facetious figures of speech (Merriam-Webster Dictionary). In this project, I will be looking into how many slang words are present in different text from two different time periods. The first text is Mr. Penumbra’s 24-Hour Library by Robin Sloan, and the second text is Macbeth by William Shakespeare. Mr. Penumbra’s 24-Hour Library was published in 2012 and Macbeth’s first performance was 1606. There is about 400-year difference between the texts. With no previous research of the contents in either book, my hypothesis is that Macbeth has more slang words than Mr. Penumbra’s 24-Hour Library since the list of words I am comparing the contents to is from the 21st century English Dictionary and not a dictionary from the 1600s. From reading Mr. Penumbra’s 24-Hour Library, it is written in a mixture of common English words and slang words, however, Macbeth contains words like “Dismay’d” which is not technically considered an English word from the dictionary. \n",
    " \n",
    "\n",
    "\n",
    "We will first define a “slang word” as a word that is not in the list of words from the all_words.txt file. \n"
   ]
  },
  {
   "cell_type": "code",
   "execution_count": 1,
   "metadata": {},
   "outputs": [],
   "source": [
    "#We will import these modules to help us in our code\n",
    "import numpy as np \n",
    "import matplotlib.pyplot as plt \n",
    "import string \n"
   ]
  },
  {
   "attachments": {},
   "cell_type": "markdown",
   "metadata": {},
   "source": [
    "- word_dict : dictionary of words from text file (ex. Mr. Penumbra's Library).  \n",
    "- english_words : List of all words from all_words text file (https://github.com/dwyl/english-words). \n",
    "- slang_words : List of words from the text file that are not in all words. \n",
    "- slang_words_dict : Dictionary of slang words as key and number of occurrences. \n"
   ]
  },
  {
   "cell_type": "code",
   "execution_count": 2,
   "metadata": {},
   "outputs": [],
   "source": [
    "penumbra_word_dict = {} \n",
    "english_words = []\n",
    "slang_words = [] \n",
    "slang_words_dict = {} "
   ]
  },
  {
   "attachments": {},
   "cell_type": "markdown",
   "metadata": {},
   "source": [
    "    First, we are reading the all_words.txt to create a list of all english words (capitalized). \n",
    "\n",
    "The next block code prints out the first couple words from the list of all words to shorten the 370105 words in the all_words.txt file. "
   ]
  },
  {
   "cell_type": "code",
   "execution_count": 3,
   "metadata": {},
   "outputs": [
    {
     "name": "stdout",
     "output_type": "stream",
     "text": [
      "370105\n",
      "['A', 'Aa', 'Aaa', 'Aah', 'Aahed', 'Aahing', 'Aahs', 'Aal', 'Aalii', 'Aaliis', 'Aals', 'Aam', 'Aani', 'Aardvark', 'Aardvarks', 'Aardwolf', 'Aardwolves', 'Aargh', 'Aaron', 'Aaronic']\n"
     ]
    }
   ],
   "source": [
    "with open(\"all_words.txt\", 'r') as contents: \n",
    "    all_data = contents.readlines() \n",
    "for line in all_data: \n",
    "    line = line.capitalize() \n",
    "    line = line.strip()\n",
    "    english_words.append(line) \n",
    "print(len(english_words))\n",
    "print(english_words[0:20]) \n",
    "\n",
    "#To see all english words in list format, delete hashtag from line below \n",
    "#print(english_words)\n"
   ]
  },
  {
   "attachments": {},
   "cell_type": "markdown",
   "metadata": {},
   "source": [
    "    Secondly, we are creating a list and dictionary of all words from Mr. Penumbra's 24-Hour Library. \n",
    "\n",
    "The code down below removes everything besides the words and adds it to word_dict. "
   ]
  },
  {
   "cell_type": "code",
   "execution_count": 4,
   "metadata": {},
   "outputs": [
    {
     "name": "stdout",
     "output_type": "stream",
     "text": [
      "77125\n",
      "8494\n"
     ]
    }
   ],
   "source": [
    "#creates a list of words from Mr.Penumbra's 24 Hour Library \n",
    "\n",
    "new_data = [] \n",
    "penumbra_allwords = [] \n",
    "with open(\"mr_penumbras_24hr_library.txt\",'r') as contents: \n",
    "    all_data = contents.readlines()\n",
    "for lines in all_data: \n",
    "    lines = lines.translate(str.maketrans('', '', string.punctuation))\n",
    "    lines = lines.replace('“','')\n",
    "    lines = lines.replace('”', '') \n",
    "    lines = lines.replace('—', ' ')\n",
    "    lines = lines.replace(\"‘\", \"\")\n",
    "    lines = lines.replace(\"•\", \"\")\n",
    "    lines = lines.replace(\"…\", \"\")\n",
    "    new_data.append(lines)\n",
    "for line in new_data: \n",
    "    line = line.split() \n",
    "    for word in line: \n",
    "        if word.startswith(tuple('1234567890’‘')): \n",
    "            continue \n",
    "        else: \n",
    "            penumbra_allwords.append(word.capitalize())\n",
    "\n",
    "#Creating a dictionary of words from Mr. Penumbra's 24 Hour Library \n",
    "idx = 0 \n",
    "while idx < len(penumbra_allwords): \n",
    "    if penumbra_allwords[idx] in penumbra_word_dict: \n",
    "        penumbra_word_dict[penumbra_allwords[idx]] += 1 \n",
    "        idx += 1 \n",
    "    else: \n",
    "        penumbra_word_dict[penumbra_allwords[idx]] = 1 \n",
    "        idx += 1 \n",
    "penumbra_word_dict = sorted(penumbra_word_dict.items(), key = lambda x:x[0]) \n",
    "penumbra_word_dict = dict(penumbra_word_dict)\n",
    "print(len(penumbra_allwords))\n",
    "print(len(penumbra_word_dict.keys()))\n",
    "\n",
    "#There are 77125 total words and 8494 different words in Mr. Penumbra's 24 Hour Library. \n",
    "            \n",
    "#To see the word dictionary of Mr. Penumbra's 24 Hour Library, delete the hashtag from line below. \n",
    "#print(mr_penumbra_word_dict)\n",
    "\n"
   ]
  },
  {
   "attachments": {},
   "cell_type": "markdown",
   "metadata": {},
   "source": [
    "Now, we are going to create a dictionary of slangwords in Mr. Penumbra's 24 Hour Library by comparing the dictionary for Mr. Penumbras to all english words list. Words from mr_penumbra_allwords that are not in all_words.txt file will be considered \"slang words\". "
   ]
  },
  {
   "cell_type": "code",
   "execution_count": 5,
   "metadata": {},
   "outputs": [
    {
     "name": "stdout",
     "output_type": "stream",
     "text": [
      "[('Abercrombie', 1), ('Accessiondeaccession', 1), ('Agentbased', 1), ('Ahhh', 1), ('Aiga', 1), ('Aires', 1), ('Ak47', 1), ('Alasmari', 1), ('Aldrag', 1), ('Alex’s', 1), ('Alienspaceship', 1), ('Alllowercase', 1), ('Allnighter', 1), ('Allout', 1), ('Allyoucaneat', 1), ('Amphitheater’s', 1), ('Anatomix', 1), ('Anchor’s', 1), ('Andrei', 1), ('Androidperfect', 1)]\n"
     ]
    }
   ],
   "source": [
    "penumbra_slangwords_dict = {}\n",
    "for key in penumbra_word_dict.keys(): \n",
    "    if key in english_words: \n",
    "        pass\n",
    "    else: \n",
    "        if key in penumbra_slangwords_dict: \n",
    "            penumbra_slangwords_dict[key] += 1 \n",
    "        else: \n",
    "            penumbra_slangwords_dict[key] = 1\n",
    "print(list(penumbra_slangwords_dict.items())[0:20])\n",
    "\n",
    "    \n",
    "    "
   ]
  },
  {
   "cell_type": "code",
   "execution_count": 6,
   "metadata": {},
   "outputs": [
    {
     "name": "stdout",
     "output_type": "stream",
     "text": [
      "['Abercrombie', 'Accessiondeaccession', 'Agentbased', 'Ahhh', 'Aiga', 'Aires', 'Ak47', 'Alasmari', 'Aldrag', 'Alex’s', 'Alienspaceship', 'Alllowercase', 'Allnighter', 'Allout', 'Allyoucaneat', 'Amphitheater’s', 'Anatomix', 'Anchor’s', 'Andrei', 'Androidperfect']\n"
     ]
    }
   ],
   "source": [
    "print(list(penumbra_slangwords_dict.keys())[0:20])"
   ]
  },
  {
   "attachments": {},
   "cell_type": "markdown",
   "metadata": {},
   "source": [
    "As you can see from the data, there are words that are not slang words in the slang words dictionary, for example the word \"Train's\". This dictionary of slang words is not 100% accurate. \n",
    "\n",
    "The words in all_words.txt file does not contain all the words in the english dictionary. For example, \"You'd\" is not apart of the all_words.txt file even though it is an english word. \n",
    "\n",
    "Furthermore, some words are a combination of two words. \"Thirtyone\" is a word for this example, this can be separated to \"thirty\" and \"one\" and it would be in all_words.txt file \n",
    "\n",
    "**These errors are not accounted for in the code that I have written. For the visual and project purposes, we will ignore these errors. (I have personally tried solving these issues but it would have took me much longer to finish) "
   ]
  },
  {
   "cell_type": "markdown",
   "metadata": {},
   "source": [
    "** Code down below allows us to get specific statistics of the words in Mr. Penumbra's 24 Hour Library. "
   ]
  },
  {
   "cell_type": "code",
   "execution_count": 7,
   "metadata": {},
   "outputs": [
    {
     "name": "stdout",
     "output_type": "stream",
     "text": [
      "Total Number of Words in Novel : 77125\n",
      "Total Number of Slang Words in Novel : 963\n",
      "1.25% of words in Mr. Penumbra's 24 Hour library are slang words\n"
     ]
    }
   ],
   "source": [
    "\n",
    "#Finding the percentage of slang words in Mr. Penumbra's 24 Hour Library \n",
    "total_words = len(penumbra_allwords)\n",
    "num = 0 \n",
    "for value in penumbra_slangwords_dict.values(): \n",
    "    num += value \n",
    "total_slangwords = num \n",
    "percentage_of_slangwords = total_slangwords / total_words\n",
    "\n",
    "print(f\"Total Number of Words in Novel : {total_words}\")\n",
    "print(f\"Total Number of Slang Words in Novel : {num}\")\n",
    "print(f\"{percentage_of_slangwords * 100:.2f}% of words in Mr. Penumbra's 24 Hour library are slang words\")"
   ]
  },
  {
   "cell_type": "code",
   "execution_count": 8,
   "metadata": {},
   "outputs": [
    {
     "name": "stdout",
     "output_type": "stream",
     "text": [
      "Total Number of Unique Words : 8494\n",
      "Total Number of Unique Slang Words : 963\n",
      "11.34% of Unique Words in Mr. Penumbra's 24 Hour Library are Unique Slang Words\n"
     ]
    }
   ],
   "source": [
    "#How many of the unique words are slang words?\n",
    "percentage_of_unique_slangwords = len(penumbra_slangwords_dict.keys()) / len(penumbra_word_dict.keys())\n",
    "print(f\"Total Number of Unique Words : {len(penumbra_word_dict.keys())}\")\n",
    "print(f\"Total Number of Unique Slang Words : {len(penumbra_slangwords_dict.keys())}\")\n",
    "print(f\"{percentage_of_unique_slangwords * 100:.2f}% of Unique Words in Mr. Penumbra's 24 Hour Library are Unique Slang Words\")\n",
    "\n"
   ]
  },
  {
   "attachments": {},
   "cell_type": "markdown",
   "metadata": {},
   "source": [
    "From the 8494 different words in the novel, 963 are slang words. "
   ]
  },
  {
   "cell_type": "markdown",
   "metadata": {},
   "source": [
    "    Now we are going to make a bar graph of the statistics from Mr. Penumbra's Library "
   ]
  },
  {
   "cell_type": "code",
   "execution_count": 9,
   "metadata": {},
   "outputs": [
    {
     "name": "stdout",
     "output_type": "stream",
     "text": [
      "{'Penumbra Slang Words': 1.25, 'Penumbra Unique Slang Words': 11.34}\n"
     ]
    }
   ],
   "source": [
    "penumbra_stats_dict = {} \n",
    "penumbra_stats_dict[\"Penumbra Slang Words\"] = float(f\"{percentage_of_slangwords * 100:.2f}\")\n",
    "penumbra_stats_dict[\"Penumbra Unique Slang Words\"] = float(f\"{percentage_of_unique_slangwords * 100:.2f}\")\n",
    "print(penumbra_stats_dict)"
   ]
  },
  {
   "cell_type": "code",
   "execution_count": 10,
   "metadata": {},
   "outputs": [
    {
     "data": {
      "image/png": "[encoded data removed]",
      "text/plain": [
       "<Figure size 1080x1080 with 1 Axes>"
      ]
     },
     "metadata": {
      "needs_background": "light"
     },
     "output_type": "display_data"
    }
   ],
   "source": [
    "name = list(penumbra_stats_dict.keys())\n",
    "percentage = list(penumbra_stats_dict.values())\n",
    "plt.figure(figsize = (15,15))\n",
    "plt.bar(range(0,2), percentage) \n",
    "plt.xticks(range(0,2), name) \n",
    "plt.xlabel(\"Types\") \n",
    "plt.ylabel(\"% of Slang words\")\n",
    "plt.title(\"Percentage of Slang Words in Mr. Penumbra's 24 Hour Library\")\n",
    "plt.show()\n",
    "\n",
    "\n"
   ]
  },
  {
   "attachments": {},
   "cell_type": "markdown",
   "metadata": {},
   "source": [
    "From this graph above, we can see that the percentage of total slang words from the novel is very small compared to the percentage of unique slang words from the novel. \n",
    "\n",
    "Mr. Penumbra's 24 Hour Library consists of majority common english words as only 1.25% of words are slang words. However, about 10th of the different words used in the novel are slang words. "
   ]
  },
  {
   "cell_type": "markdown",
   "metadata": {},
   "source": [
    "    Now we will gather data from Macbeth by William Shakespeare by using the same code as we did for Mr. Penumbra's 24 Hour Library. \n",
    "\n",
    "The code down below look identical to the codes up above but the variable names for lists and dictionaries will be \"macbeth...\". "
   ]
  },
  {
   "cell_type": "code",
   "execution_count": 11,
   "metadata": {},
   "outputs": [
    {
     "name": "stdout",
     "output_type": "stream",
     "text": [
      "18095\n",
      "3375\n"
     ]
    }
   ],
   "source": [
    "#creates a list of words from Macbeth\n",
    "\n",
    "new_data = [] \n",
    "macbeth_allwords = [] \n",
    "with open(\"macbeth.txt\",'r') as contents: \n",
    "    all_data = contents.readlines()\n",
    "for lines in all_data: \n",
    "    lines = lines.translate(str.maketrans('', '', string.punctuation))\n",
    "    lines = lines.replace('“','')\n",
    "    lines = lines.replace('”', '') \n",
    "    lines = lines.replace('—', ' ')\n",
    "    lines = lines.replace(\"‘\", \"\")\n",
    "    lines = lines.replace(\"•\", \"\")\n",
    "    lines = lines.replace(\"…\", \"\")\n",
    "    new_data.append(lines)\n",
    "for line in new_data: \n",
    "    line = line.split() \n",
    "    for word in line: \n",
    "        if word.startswith(tuple('1234567890’‘')): \n",
    "            continue \n",
    "        else: \n",
    "            macbeth_allwords.append(word.capitalize())\n",
    "\n",
    "#Creating a dictionary of words from Macbeth\n",
    "macbeth_word_dict = {} \n",
    "idx = 0 \n",
    "while idx < len(macbeth_allwords): \n",
    "    if macbeth_allwords[idx] in macbeth_word_dict: \n",
    "        macbeth_word_dict[macbeth_allwords[idx]] += 1 \n",
    "        idx += 1 \n",
    "    else: \n",
    "        macbeth_word_dict[macbeth_allwords[idx]] = 1 \n",
    "        idx += 1 \n",
    "macbeth_word_dict = sorted(macbeth_word_dict.items(), key = lambda x:x[0]) \n",
    "macbeth_word_dict = dict(macbeth_word_dict)\n",
    "print(len(macbeth_allwords))\n",
    "print(len(macbeth_word_dict.keys()))\n",
    "\n",
    "#There are 18095 total words and 3375 different words in Macbeth. \n",
    "            \n",
    "#To see the word dictionary of Macbeth delete the hashtag from line below. \n",
    "#print(macbeth_word_dict)\n",
    "\n"
   ]
  },
  {
   "attachments": {},
   "cell_type": "markdown",
   "metadata": {},
   "source": [
    "Now we are going to create a dictionary of slang words in Macbeth by comparing the Macbeth words dictionary to the all english words list. Words from macbeth_allwords that are not in words(words from all_words.txt) will be considered \"slang words\". "
   ]
  },
  {
   "cell_type": "code",
   "execution_count": 13,
   "metadata": {},
   "outputs": [
    {
     "name": "stdout",
     "output_type": "stream",
     "text": [
      "[('Accountyet', 1), ('Addressd', 1), ('Affeerd', 1), ('Againpullt', 1), ('Airdrawn', 1), ('Alarumbell', 1), ('Alarumd', 1), ('Allhail', 1), ('Allhailed', 1), ('Amaking', 1), ('Angerd', 1), ('Anoncomes', 1), ('Anticipatest', 1), ('Antonys', 1), ('Armd', 1), ('Askd', 1), ('Augerhole', 1), ('Babybrow', 1), ('Banishd', 1), ('Banquos', 1)]\n"
     ]
    }
   ],
   "source": [
    "macbeth_slangwords_dict = {}\n",
    "for key in macbeth_word_dict.keys(): \n",
    "    if key in english_words: \n",
    "        pass\n",
    "    else: \n",
    "        if key in macbeth_slangwords_dict: \n",
    "            macbeth_slangwords_dict[key] += 1 \n",
    "        else: \n",
    "            macbeth_slangwords_dict[key] = 1\n",
    "print(list(macbeth_slangwords_dict.items())[0:20])\n",
    "\n",
    "#Down below is the dictionary of Macbeth slang words and the number of occurences. "
   ]
  },
  {
   "cell_type": "code",
   "execution_count": 14,
   "metadata": {},
   "outputs": [
    {
     "name": "stdout",
     "output_type": "stream",
     "text": [
      "['Accountyet', 'Addressd', 'Affeerd', 'Againpullt', 'Airdrawn', 'Alarumbell', 'Alarumd', 'Allhail', 'Allhailed', 'Amaking', 'Angerd', 'Anoncomes', 'Anticipatest', 'Antonys', 'Armd', 'Askd', 'Augerhole', 'Babybrow', 'Banishd', 'Banquos']\n"
     ]
    }
   ],
   "source": [
    "\n",
    "print(list(macbeth_slangwords_dict.keys())[0:20])\n",
    "#Down below is a list of Macbeth slang words. "
   ]
  },
  {
   "attachments": {},
   "cell_type": "markdown",
   "metadata": {},
   "source": [
    "macbeth_slangwords_dict contains words that are clearly not in the 21st century english dictionary. \"Angerd\" is not an english word, however, \"angered\" is an actual english word. Shakespeare wrote Macbeth in his own specific stylistic way. "
   ]
  },
  {
   "cell_type": "code",
   "execution_count": 15,
   "metadata": {},
   "outputs": [
    {
     "name": "stdout",
     "output_type": "stream",
     "text": [
      "Total Number of Words in Novel : 18095\n",
      "Total Number of Slang Words in Novel : 292\n",
      "1.61% of words in Macbeth are slang words\n"
     ]
    }
   ],
   "source": [
    "\n",
    "#Finding the percentage of slang words in Macbeth \n",
    "total_words = len(macbeth_allwords)\n",
    "num = 0 \n",
    "for value in macbeth_slangwords_dict.values(): \n",
    "    num += value \n",
    "total_slangwords = num \n",
    "percentage_of_slangwords = total_slangwords / total_words\n",
    "\n",
    "print(f\"Total Number of Words in Novel : {total_words}\")\n",
    "print(f\"Total Number of Slang Words in Novel : {num}\")\n",
    "print(f\"{percentage_of_slangwords * 100:.2f}% of words in Macbeth are slang words\")"
   ]
  },
  {
   "cell_type": "code",
   "execution_count": 16,
   "metadata": {},
   "outputs": [
    {
     "name": "stdout",
     "output_type": "stream",
     "text": [
      "Total Number of Unique Words : 3375\n",
      "Total Number of Unique Slang Words : 292\n",
      "8.65% of Unique Words in Mr. Penumbra's 24 Hour Library are Unique Slang Words\n"
     ]
    }
   ],
   "source": [
    "#How many of the unique words are slang words?\n",
    "percentage_of_unique_slangwords = len(macbeth_slangwords_dict.keys()) / len(macbeth_word_dict.keys())\n",
    "print(f\"Total Number of Unique Words : {len(macbeth_word_dict.keys())}\")\n",
    "print(f\"Total Number of Unique Slang Words : {len(macbeth_slangwords_dict.keys())}\")\n",
    "print(f\"{percentage_of_unique_slangwords * 100:.2f}% of Unique Words in Mr. Penumbra's 24 Hour Library are Unique Slang Words\")\n",
    "\n"
   ]
  },
  {
   "cell_type": "code",
   "execution_count": 19,
   "metadata": {},
   "outputs": [
    {
     "name": "stdout",
     "output_type": "stream",
     "text": [
      "{'Macbeth Slang Words': 1.61, 'Macbeth Unique Slang Words': 8.65}\n"
     ]
    }
   ],
   "source": [
    "#Now we make a dictionary for Macbeth statistics\n",
    "macbeth_stats_dict = {}\n",
    "macbeth_stats_dict[\"Macbeth Slang Words\"] = float(f\"{percentage_of_slangwords * 100:.2f}\")\n",
    "macbeth_stats_dict[\"Macbeth Unique Slang Words\"] = float(f\"{percentage_of_unique_slangwords * 100:.2f}\")\n",
    "print(macbeth_stats_dict)"
   ]
  },
  {
   "cell_type": "code",
   "execution_count": 20,
   "metadata": {},
   "outputs": [
    {
     "data": {
      "image/png": "[encoded data removed]",
      "text/plain": [
       "<Figure size 1080x1080 with 1 Axes>"
      ]
     },
     "metadata": {
      "needs_background": "light"
     },
     "output_type": "display_data"
    }
   ],
   "source": [
    "name = list(macbeth_stats_dict.keys())\n",
    "percentage = list(macbeth_stats_dict.values())\n",
    "plt.figure(figsize = (15,15))\n",
    "plt.bar(range(0,2), percentage) \n",
    "plt.xticks(range(0,2), name) \n",
    "plt.xlabel(\"Types\") \n",
    "plt.ylabel(\"% of Slang Words\")\n",
    "plt.title(\"Percentage of Slang Words in Macbeth\")\n",
    "plt.show()\n",
    "\n",
    "\n"
   ]
  },
  {
   "attachments": {},
   "cell_type": "markdown",
   "metadata": {},
   "source": [
    "    Now that we have statistics of the percentages of slang words in both Mr. Penumbra's 24-Hour Library and Macbeth, we can combine the bar graphs and create a conclusion "
   ]
  },
  {
   "cell_type": "code",
   "execution_count": 22,
   "metadata": {},
   "outputs": [
    {
     "name": "stdout",
     "output_type": "stream",
     "text": [
      "{'Macbeth Slang Words': 1.61, 'Macbeth Unique Slang Words': 8.65, 'Penumbra Slang Words': 1.25, 'Penumbra Unique Slang Words': 11.34}\n"
     ]
    }
   ],
   "source": [
    "all_stats = macbeth_stats_dict | penumbra_stats_dict\n",
    "print(all_stats)"
   ]
  },
  {
   "cell_type": "code",
   "execution_count": 23,
   "metadata": {},
   "outputs": [
    {
     "data": {
      "image/png": "[encoded data removed]",
      "text/plain": [
       "<Figure size 1080x1080 with 1 Axes>"
      ]
     },
     "metadata": {
      "needs_background": "light"
     },
     "output_type": "display_data"
    }
   ],
   "source": [
    "name = list(all_stats.keys())\n",
    "percentage = list(all_stats.values())\n",
    "plt.figure(figsize = (15,15))\n",
    "plt.bar(range(0,4), percentage) \n",
    "plt.xticks(range(0,4), name) \n",
    "plt.xlabel(\"Types\") \n",
    "plt.ylabel(\"% of Slang Words\")\n",
    "plt.title(\"Percentage of Slang Words in different Text\") \n",
    "plt.show()"
   ]
  },
  {
   "attachments": {},
   "cell_type": "markdown",
   "metadata": {},
   "source": [
    "The chart above shows that the percentage of slang words in Macbeth is similar to the percentage of slang words in Mr. Penumbra's 24-Hour Library. However, the percentage of unique slang words in Mr. Penumbra is slightly greater than the percentage of unique slang words in Macbeth. The data we gathered supports a piece of the hypothesis. Even though the percentage of total number of slang words is greater in Macbeth, the percentage of unique slang words is greater in Mr. Penumbra's 24-Hour Library. The percentages of unique words was exactly what I had believed to be since Mr. Penumbra's 24-Hour Library's setting takes place in the 21st century. In conclusion, the data we collected from the project supports our hypothesis. "
   ]
  },
  {
   "attachments": {},
   "cell_type": "markdown",
   "metadata": {},
   "source": [
    "    Bias in the Project\n",
    "\n",
    "While working on the results for the percentage of slang words in text, I have noticed some of the bias that could show up. One of the texts in my project, Mr. Penumbra's 24-Hour Library is set in the 21st century in which many of the 21st century slang words have shown up. This causes the percentage of slang words to be higher in Mr. Penumbra's 24-Hour Library than other texts that were written in different time periods. Words such as \"Subway\" may be common dictionary-word in the 21st century perspective, but in the 1900s, there is no way that it would have shown up in a dictionary, or with the connotation it has now. I am using a text file of all English words from a dictionary and by using these words as a standard list for English words, I am generalizing the materials I can use in my project. The second text I used in the project, Macbeth, many of the words do not correlate with the words in the words from the dictionary. \"Are\" and \"Arth\" cannot be accepted as the same since we would have to use a different dictionary standard for analyzing Macbeth. If there was a dictionary in the time when Macbeth was written, we can analyze it more accurately. For the code I wrote for this project, it is hard to accurately portray the percentage and identity of slang words in Macbeth. "
   ]
  }
 ],
 "metadata": {
  "kernelspec": {
   "display_name": "Python 3.9.7 ('base')",
   "language": "python",
   "name": "python3"
  },
  "language_info": {
   "codemirror_mode": {
    "name": "ipython",
    "version": 3
   },
   "file_extension": ".py",
   "mimetype": "text/x-python",
   "name": "python",
   "nbconvert_exporter": "python",
   "pygments_lexer": "ipython3",
   "version": "3.9.7"
  },
  "orig_nbformat": 4,
  "vscode": {
   "interpreter": {
    "hash": "96762580dc771c728ac9a1b8aa29a3a420bc09545a8c1a32553175fbb1f6eb2a"
   }
  }
 },
 "nbformat": 4,
 "nbformat_minor": 2
}
